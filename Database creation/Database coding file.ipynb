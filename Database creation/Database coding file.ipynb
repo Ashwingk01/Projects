{
 "cells": [
  {
   "cell_type": "code",
   "execution_count": 0,
   "metadata": {
    "collapsed": false
   },
   "outputs": [
   ],
   "source": [
    "if __name__ == \"__main__\":\n",
    "  import argparse\n",
    "      parser = argparse.ArgumentParser()\n",
    "      parser.add_argument(\"disname\")\n",
    "      args = parser.parse_args()"
   ]
  },
  {
   "cell_type": "code",
   "execution_count": 1,
   "metadata": {
    "collapsed": false
   },
   "outputs": [
   ],
   "source": [
    "# importing packages\n",
    "import numpy as np\n",
    "import pandas as pd"
   ]
  },
  {
   "cell_type": "code",
   "execution_count": 2,
   "metadata": {
    "collapsed": false
   },
   "outputs": [
   ],
   "source": [
    "df = pd.read_csv('miRNA-locusMOD.txt',names=['Index','miRNA','Locus','PredScore'], skiprows=1, sep='\\t')\n"
   ]
  },
  {
   "cell_type": "code",
   "execution_count": 3,
   "metadata": {
    "collapsed": false
   },
   "outputs": [
    {
     "name": "stdout",
     "output_type": "stream",
     "text": [
      "           Index          miRNA         Locus  PredScore\n",
      "0              1   cfa-miR-1185     XM_536047  54.527000\n",
      "1              2   cfa-miR-1185  XM_005617022  55.171633\n",
      "2              3   cfa-miR-1185  XM_014117861  57.440906\n",
      "3              4   cfa-miR-1185  XM_014107884  57.151900\n",
      "4              5   cfa-miR-1185  XM_005626419  67.053600\n",
      "...          ...            ...           ...        ...\n",
      "6831342  6831590  rno-miR-9b-5p     NM_199120  50.000000\n",
      "6831343  6831591  rno-miR-9b-5p     NM_023957  51.856400\n",
      "6831344  6831592  rno-miR-9b-5p  NM_001025023  86.245200\n",
      "6831345  6831593  rno-miR-9b-5p     NM_138523  64.400100\n",
      "6831346  6831594  rno-miR-9b-5p  NM_001108995  56.414700\n",
      "\n",
      "[6831347 rows x 4 columns]\n"
     ]
    }
   ],
   "source": [
    "print(df)"
   ]
  },
  {
   "cell_type": "code",
   "execution_count": 4,
   "metadata": {
    "collapsed": false
   },
   "outputs": [
    {
     "name": "stdout",
     "output_type": "stream",
     "text": [
      "               Locus                Organism     Gene\n",
      "0          XM_537211  Canis lupus familiaris    MPZL1\n",
      "1          XM_536047  Canis lupus familiaris     IDH1\n",
      "2       XM_005617022  Canis lupus familiaris     NEBL\n",
      "3       XM_014117861  Canis lupus familiaris    RNF38\n",
      "4       XM_014107884  Canis lupus familiaris    OSBP2\n",
      "...              ...                     ...      ...\n",
      "147954     NM_022545       Rattus norvegicus  Prpsap1\n",
      "147955  NM_001025139       Rattus norvegicus     Zpbp\n",
      "147956  NM_001108456       Rattus norvegicus   Afg3l1\n",
      "147957     NM_012582       Rattus norvegicus       Hp\n",
      "147958  NM_001106182       Rattus norvegicus     Cog8\n",
      "\n",
      "[147959 rows x 3 columns]\n"
     ]
    }
   ],
   "source": [
    "df1= pd.read_csv(\"locus-to-geneMOD.csv\",encoding= 'unicode_escape')\n",
    "print (df1)\n"
   ]
  },
  {
   "cell_type": "code",
   "execution_count": 5,
   "metadata": {
    "collapsed": false
   },
   "outputs": [
    {
     "name": "stdout",
     "output_type": "stream",
     "text": [
      "          geneId geneSymbol    DSI    DPI diseaseId               diseaseName  \\\n",
      "0              1       A1BG  0.700  0.538  C0019209              Hepatomegaly   \n",
      "1              1       A1BG  0.700  0.538  C0036341             Schizophrenia   \n",
      "2              2        A2M  0.529  0.769  C0002395       Alzheimer's Disease   \n",
      "3              2        A2M  0.529  0.769  C0007102  Malignant tumor of colon   \n",
      "4              2        A2M  0.529  0.769  C0009375         Colonic Neoplasms   \n",
      "...          ...        ...    ...    ...       ...                       ...   \n",
      "84004  109580095    HBB-LCR  0.743  0.115  C0002875           Cooley's anemia   \n",
      "84005  109580095    HBB-LCR  0.743  0.115  C0005283          beta Thalassemia   \n",
      "84006  109580095    HBB-LCR  0.743  0.115  C0019025      Hemoglobin F Disease   \n",
      "84007  109580095    HBB-LCR  0.743  0.115  C0085578         Thalassemia Minor   \n",
      "84008  109580095    HBB-LCR  0.743  0.115  C0271979    Thalassemia Intermedia   \n",
      "\n",
      "      diseaseType diseaseClass               diseaseSemanticType  score  \\\n",
      "0       phenotype      C23;C06                           Finding   0.30   \n",
      "1         disease          F03  Mental or Behavioral Dysfunction   0.30   \n",
      "2         disease      C10;F03               Disease or Syndrome   0.50   \n",
      "3         disease      C06;C04                Neoplastic Process   0.31   \n",
      "4           group      C06;C04                Neoplastic Process   0.30   \n",
      "...           ...          ...                               ...    ...   \n",
      "84004     disease      C16;C15               Disease or Syndrome   0.30   \n",
      "84005     disease      C16;C15               Disease or Syndrome   0.30   \n",
      "84006     disease      C16;C15               Disease or Syndrome   0.30   \n",
      "84007     disease      C16;C15               Disease or Syndrome   0.30   \n",
      "84008     disease      C16;C15               Disease or Syndrome   0.30   \n",
      "\n",
      "          EI  YearInitial  YearFinal  NofPmids  NofSnps     source  \n",
      "0      1.000       2017.0     2017.0         1        0  CTD_human  \n",
      "1      1.000       2015.0     2015.0         1        0  CTD_human  \n",
      "2      0.769       1998.0     2018.0         3        0  CTD_human  \n",
      "3      1.000       2004.0     2019.0         1        0  CTD_human  \n",
      "4      1.000       2004.0     2004.0         1        0  CTD_human  \n",
      "...      ...          ...        ...       ...      ...        ...  \n",
      "84004    NaN          NaN        NaN         0        0  CTD_human  \n",
      "84005    NaN          NaN        NaN         0        0  CTD_human  \n",
      "84006    NaN          NaN        NaN         0        0  CTD_human  \n",
      "84007    NaN          NaN        NaN         0        0  CTD_human  \n",
      "84008    NaN          NaN        NaN         0        0  CTD_human  \n",
      "\n",
      "[84009 rows x 16 columns]\n"
     ]
    },
    {
     "name": "stderr",
     "output_type": "stream",
     "text": [
      "C:\\Users\\Ashwin\\AppData\\Local\\Temp\\ipykernel_2044\\3387906902.py:1: FutureWarning: The error_bad_lines argument has been deprecated and will be removed in a future version. Use on_bad_lines in the future.\n",
      "\n",
      "\n",
      "  df2= pd.read_csv(\"curated_gene_disease_associationsMOD.tsv\",sep='\\t',error_bad_lines=False)\n"
     ]
    }
   ],
   "source": [
    "df2= pd.read_csv(\"curated_gene_disease_associationsMOD.tsv\",sep='\\t',error_bad_lines=False)\n",
    "print (df2)"
   ]
  },
  {
   "cell_type": "code",
   "execution_count": 6,
   "metadata": {
    "collapsed": false
   },
   "outputs": [
    {
     "data": {
      "text/plain": [
       "pandas.core.frame.DataFrame"
      ]
     },
     "execution_count": 6,
     "metadata": {
     },
     "output_type": "execute_result"
    }
   ],
   "source": [
    "type(df1)\n",
    "type(df2)\n",
    "type(df)\n"
   ]
  },
  {
   "cell_type": "code",
   "execution_count": 7,
   "metadata": {
    "collapsed": false
   },
   "outputs": [
   ],
   "source": [
    "df3= pd.merge(df, df1)\n"
   ]
  },
  {
   "cell_type": "code",
   "execution_count": 8,
   "metadata": {
    "collapsed": false
   },
   "outputs": [
    {
     "name": "stdout",
     "output_type": "stream",
     "text": [
      "           Index           miRNA         Locus  PredScore  \\\n",
      "0              1    cfa-miR-1185     XM_536047  54.527000   \n",
      "1          57904     cfa-miR-92b     XM_536047  89.747400   \n",
      "2         121329     cfa-miR-23b     XM_536047  55.984697   \n",
      "3         154786     cfa-miR-30d     XM_536047  81.644385   \n",
      "4         196634      cfa-miR-25     XM_536047  86.129900   \n",
      "...          ...             ...           ...        ...   \n",
      "6830562  6827645   rno-miR-93-3p  NM_001025139  83.477200   \n",
      "6830563  6828483     rno-miR-935  NM_001108456  52.797500   \n",
      "6830564  6830302  rno-miR-99a-3p     NM_012582  54.917900   \n",
      "6830565  6830354  rno-miR-99b-3p     NM_012582  54.917900   \n",
      "6830566  6830494   rno-miR-9a-3p  NM_001106182  59.321100   \n",
      "\n",
      "                       Organism    Gene  \n",
      "0        Canis lupus familiaris    IDH1  \n",
      "1        Canis lupus familiaris    IDH1  \n",
      "2        Canis lupus familiaris    IDH1  \n",
      "3        Canis lupus familiaris    IDH1  \n",
      "4        Canis lupus familiaris    IDH1  \n",
      "...                         ...     ...  \n",
      "6830562       Rattus norvegicus    Zpbp  \n",
      "6830563       Rattus norvegicus  Afg3l1  \n",
      "6830564       Rattus norvegicus      Hp  \n",
      "6830565       Rattus norvegicus      Hp  \n",
      "6830566       Rattus norvegicus    Cog8  \n",
      "\n",
      "[6830567 rows x 6 columns]\n"
     ]
    }
   ],
   "source": [
    "print(df3)\n"
   ]
  },
  {
   "cell_type": "code",
   "execution_count": 9,
   "metadata": {
    "collapsed": false
   },
   "outputs": [
    {
     "name": "stdout",
     "output_type": "stream",
     "text": [
      "           Index             miRNA         Locus  PredScore      Organism  \\\n",
      "1775778  1776177   hsa-let-7a-2-3p  NM_001193338  67.202300  Homo sapiens   \n",
      "1775779  1806028     hsa-let-7g-3p  NM_001193338  67.202300  Homo sapiens   \n",
      "1775780  2008401      hsa-miR-1275  NM_001193338  64.713700  Homo sapiens   \n",
      "1775781  2054736      hsa-miR-1302  NM_001193338  61.766900  Homo sapiens   \n",
      "1775782  2098482  hsa-miR-138-2-3p  NM_001193338  88.573895  Homo sapiens   \n",
      "...          ...               ...           ...        ...           ...   \n",
      "5151303  4985162      hsa-miR-7704  NM_001302691  55.363700  Homo sapiens   \n",
      "5151304  4985188      hsa-miR-7704  NM_001302689  55.363700  Homo sapiens   \n",
      "5151305  5002432   hsa-miR-7856-5p     NM_004819  60.328600  Homo sapiens   \n",
      "5151306  5023090      hsa-miR-8063     NM_002341  84.580400  Homo sapiens   \n",
      "5151307  5096868  hsa-miR-92a-2-5p     NM_015201  65.781100  Homo sapiens   \n",
      "\n",
      "          Gene  \n",
      "1775778   FCMR  \n",
      "1775779   FCMR  \n",
      "1775780   FCMR  \n",
      "1775781   FCMR  \n",
      "1775782   FCMR  \n",
      "...        ...  \n",
      "5151303   APOE  \n",
      "5151304   APOE  \n",
      "5151305  SYMPK  \n",
      "5151306    LTB  \n",
      "5151307   BOP1  \n",
      "\n",
      "[3371597 rows x 6 columns]\n"
     ]
    }
   ],
   "source": [
    "df4 = df3.loc[df3['Organism'] == \"Homo sapiens\"]\n",
    "df4.dropna()\n",
    "print(df4)\n",
    "\n"
   ]
  },
  {
   "cell_type": "code",
   "execution_count": 11,
   "metadata": {
    "collapsed": false
   },
   "outputs": [
    {
     "name": "stdout",
     "output_type": "stream",
     "text": [
      "           Index             miRNA         Locus  PredScore      Organism  \\\n",
      "1775782  2098482  hsa-miR-138-2-3p  NM_001193338  88.573895  Homo sapiens   \n",
      "1775793  2472626      hsa-miR-302e  NM_001193338  85.013960  Homo sapiens   \n",
      "1775796  2588316   hsa-miR-3151-5p  NM_001193338  80.622800  Homo sapiens   \n",
      "1775804  3067912      hsa-miR-4291  NM_001193338  86.586200  Homo sapiens   \n",
      "1775806  3099649      hsa-miR-4311  NM_001193338  88.294170  Homo sapiens   \n",
      "...          ...               ...           ...        ...           ...   \n",
      "5151285  4858059   hsa-miR-6880-5p  NM_001318242  81.415300  Homo sapiens   \n",
      "5151288  4858262   hsa-miR-6880-5p  NM_001318243  81.415300  Homo sapiens   \n",
      "5151291  4858300   hsa-miR-6880-5p  NM_001318241  81.415300  Homo sapiens   \n",
      "5151294  4858557   hsa-miR-6880-5p     NM_152710  81.415300  Homo sapiens   \n",
      "5151306  5023090      hsa-miR-8063     NM_002341  84.580400  Homo sapiens   \n",
      "\n",
      "          Gene  \n",
      "1775782   FCMR  \n",
      "1775793   FCMR  \n",
      "1775796   FCMR  \n",
      "1775804   FCMR  \n",
      "1775806   FCMR  \n",
      "...        ...  \n",
      "5151285  TBATA  \n",
      "5151288  TBATA  \n",
      "5151291  TBATA  \n",
      "5151294  TBATA  \n",
      "5151306    LTB  \n",
      "\n",
      "[811106 rows x 6 columns]\n"
     ]
    }
   ],
   "source": [
    "df5= df4.loc[df4['PredScore'] > 80]\n",
    "print (df5)"
   ]
  },
  {
   "cell_type": "code",
   "execution_count": 12,
   "metadata": {
    "collapsed": false
   },
   "outputs": [
    {
     "name": "stdout",
     "output_type": "stream",
     "text": [
      "       geneId geneSymbol    DSI    DPI diseaseId  \\\n",
      "175        19      ABCA1  0.467  0.846  C0039292   \n",
      "223        24      ABCA4  0.493  0.769  C0271093   \n",
      "225        24      ABCA4  0.493  0.769  C1855465   \n",
      "227        24      ABCA4  0.493  0.769  C1858806   \n",
      "310        34      ACADM  0.638  0.462  C0220710   \n",
      "...       ...        ...    ...    ...       ...   \n",
      "81057  388939      PCARE  0.674  0.346  C3150691   \n",
      "81075  389421     LIN28B  0.556  0.654  C0027819   \n",
      "82666  493856      CISD2  0.590  0.692  C1858028   \n",
      "82762  494513       PJVK  0.769  0.115  C1857744   \n",
      "83092  646960     PRSS56  0.743  0.115  C3150757   \n",
      "\n",
      "                                             diseaseName diseaseType  \\\n",
      "175                                      Tangier Disease     disease   \n",
      "223                                  Stargardt's disease   phenotype   \n",
      "225                       STARGARDT DISEASE 1 (disorder)     disease   \n",
      "227                      CONE-ROD DYSTROPHY 3 (disorder)     disease   \n",
      "310    Medium-chain acyl-coenzyme A dehydrogenase def...     disease   \n",
      "...                                                  ...         ...   \n",
      "81057                            RETINITIS PIGMENTOSA 54     disease   \n",
      "81075                                      Neuroblastoma     disease   \n",
      "82666                                 WOLFRAM SYNDROME 2     disease   \n",
      "82762                   DEAFNESS, AUTOSOMAL RECESSIVE 59     disease   \n",
      "83092                         MICROPHTHALMIA, ISOLATED 6     disease   \n",
      "\n",
      "              diseaseClass  diseaseSemanticType  score     EI  YearInitial  \\\n",
      "175            C16;C18;C10  Disease or Syndrome    1.0  0.991       1999.0   \n",
      "223                    NaN  Disease or Syndrome    1.0  0.995       1997.0   \n",
      "225                    NaN  Disease or Syndrome    1.0  0.978       1997.0   \n",
      "227                C16;C11  Disease or Syndrome    0.9  1.000       1998.0   \n",
      "310                C16;C18  Disease or Syndrome    1.0  0.991       1983.0   \n",
      "...                    ...                  ...    ...    ...          ...   \n",
      "81057                  NaN  Disease or Syndrome    0.9  1.000       2010.0   \n",
      "81075                  C04   Neoplastic Process    0.9  1.000       2012.0   \n",
      "82666  C23;C18;C11;C10;C09  Disease or Syndrome    0.9  1.000       2007.0   \n",
      "82762          C23;C10;C09  Disease or Syndrome    0.9  1.000       2006.0   \n",
      "83092                  NaN  Disease or Syndrome    0.9  1.000       2011.0   \n",
      "\n",
      "       YearFinal  NofPmids  NofSnps  \\\n",
      "175       2019.0        23       24   \n",
      "223       2020.0         1       12   \n",
      "225       2020.0        21      306   \n",
      "227       2018.0         3       53   \n",
      "310       2019.0        24      107   \n",
      "...          ...       ...      ...   \n",
      "81057     2015.0         3        9   \n",
      "81075     2020.0         3        1   \n",
      "82666     2019.0         5        0   \n",
      "82762     2012.0         3        9   \n",
      "83092     2018.0         4       10   \n",
      "\n",
      "                                            source  \n",
      "175    CTD_human;GENOMICS_ENGLAND;ORPHANET;UNIPROT  \n",
      "223            CTD_human;GENOMICS_ENGLAND;ORPHANET  \n",
      "225    CTD_human;GENOMICS_ENGLAND;ORPHANET;UNIPROT  \n",
      "227             CTD_human;GENOMICS_ENGLAND;UNIPROT  \n",
      "310     CLINGEN;CTD_human;GENOMICS_ENGLAND;UNIPROT  \n",
      "...                                            ...  \n",
      "81057           CTD_human;GENOMICS_ENGLAND;UNIPROT  \n",
      "81075                           CTD_human;ORPHANET  \n",
      "82666                   CTD_human;GENOMICS_ENGLAND  \n",
      "82762           CTD_human;GENOMICS_ENGLAND;UNIPROT  \n",
      "83092           CTD_human;GENOMICS_ENGLAND;UNIPROT  \n",
      "\n",
      "[967 rows x 16 columns]\n"
     ]
    }
   ],
   "source": [
    "df6= df2.loc[df2['score'] > 0.8]\n",
    "print (df6)"
   ]
  },
  {
   "cell_type": "code",
   "execution_count": 13,
   "metadata": {
    "collapsed": false
   },
   "outputs": [
    {
     "name": "stdout",
     "output_type": "stream",
     "text": [
      "         Index           miRNA         Locus  PredScore      Organism    Gene  \\\n",
      "0      1782062   hsa-let-7a-5p     NM_004015    89.3475  Homo sapiens     DMD   \n",
      "1      1787765   hsa-let-7b-5p     NM_004015    89.3475  Homo sapiens     DMD   \n",
      "2      1792417   hsa-let-7c-5p     NM_004015    89.3475  Homo sapiens     DMD   \n",
      "3      1794294   hsa-let-7d-5p     NM_004015    89.3263  Homo sapiens     DMD   \n",
      "4      1795970   hsa-let-7e-5p     NM_004015    89.3475  Homo sapiens     DMD   \n",
      "...        ...             ...           ...        ...           ...     ...   \n",
      "51713  3714904  hsa-miR-501-5p  NM_001145829    88.3904  Homo sapiens   TNNI2   \n",
      "51714  3889348  hsa-miR-542-3p     NM_014845    87.2727  Homo sapiens    FIG4   \n",
      "51715  3889348  hsa-miR-542-3p     NM_014845    87.2727  Homo sapiens    FIG4   \n",
      "51716  5094120     hsa-miR-924  NM_001173498    82.3492  Homo sapiens  MAN2B1   \n",
      "51717  5094447     hsa-miR-924     NM_000528    82.3492  Homo sapiens  MAN2B1   \n",
      "\n",
      "       geneId geneSymbol    DSI    DPI  ... diseaseType     diseaseClass  \\\n",
      "0        1756        DMD  0.423  0.923  ...     disease      C16;C05;C10   \n",
      "1        1756        DMD  0.423  0.923  ...     disease      C16;C05;C10   \n",
      "2        1756        DMD  0.423  0.923  ...     disease      C16;C05;C10   \n",
      "3        1756        DMD  0.423  0.923  ...     disease      C16;C05;C10   \n",
      "4        1756        DMD  0.423  0.923  ...     disease      C16;C05;C10   \n",
      "...       ...        ...    ...    ...  ...         ...              ...   \n",
      "51713    7136      TNNI2  0.631  0.423  ...     disease          C16;C05   \n",
      "51714    9896       FIG4  0.551  0.731  ...     disease  C16;C17;C05;C07   \n",
      "51715    9896       FIG4  0.551  0.731  ...     disease          C16;C10   \n",
      "51716    4125     MAN2B1  0.674  0.462  ...     disease          C16;C18   \n",
      "51717    4125     MAN2B1  0.674  0.462  ...     disease          C16;C18   \n",
      "\n",
      "       diseaseSemanticType score    EI  YearInitial  YearFinal  NofPmids  \\\n",
      "0      Disease or Syndrome  1.00  0.98       1981.0     2020.0        18   \n",
      "1      Disease or Syndrome  1.00  0.98       1981.0     2020.0        18   \n",
      "2      Disease or Syndrome  1.00  0.98       1981.0     2020.0        18   \n",
      "3      Disease or Syndrome  1.00  0.98       1981.0     2020.0        18   \n",
      "4      Disease or Syndrome  1.00  0.98       1981.0     2020.0        18   \n",
      "...                    ...   ...   ...          ...        ...       ...   \n",
      "51713  Disease or Syndrome  0.96  1.00       2003.0     2018.0         4   \n",
      "51714  Disease or Syndrome  0.98  1.00       2007.0     2019.0         2   \n",
      "51715  Disease or Syndrome  1.00  1.00       2007.0     2019.0         6   \n",
      "51716  Disease or Syndrome  1.00  1.00       1977.0     2019.0         7   \n",
      "51717  Disease or Syndrome  1.00  1.00       1977.0     2019.0         7   \n",
      "\n",
      "       NofSnps                                       source  \n",
      "0          151  CTD_human;GENOMICS_ENGLAND;ORPHANET;UNIPROT  \n",
      "1          151  CTD_human;GENOMICS_ENGLAND;ORPHANET;UNIPROT  \n",
      "2          151  CTD_human;GENOMICS_ENGLAND;ORPHANET;UNIPROT  \n",
      "3          151  CTD_human;GENOMICS_ENGLAND;ORPHANET;UNIPROT  \n",
      "4          151  CTD_human;GENOMICS_ENGLAND;ORPHANET;UNIPROT  \n",
      "...        ...                                          ...  \n",
      "51713        4  CTD_human;GENOMICS_ENGLAND;ORPHANET;UNIPROT  \n",
      "51714        5  CTD_human;GENOMICS_ENGLAND;ORPHANET;UNIPROT  \n",
      "51715       11           CTD_human;GENOMICS_ENGLAND;UNIPROT  \n",
      "51716       94           CTD_human;GENOMICS_ENGLAND;UNIPROT  \n",
      "51717       94           CTD_human;GENOMICS_ENGLAND;UNIPROT  \n",
      "\n",
      "[51718 rows x 22 columns]\n"
     ]
    }
   ],
   "source": [
    "df7=pd.merge(df5,df6,left_on='Gene',right_on='geneSymbol')\n",
    "print(df7)"
   ]
  },
  {
   "cell_type": "code",
   "execution_count": 14,
   "metadata": {
    "collapsed": false
   },
   "outputs": [
    {
     "data": {
      "text/plain": [
       "0        CTD_human;GENOMICS_ENGLAND;ORPHANET;UNIPROT\n",
       "1        CTD_human;GENOMICS_ENGLAND;ORPHANET;UNIPROT\n",
       "2        CTD_human;GENOMICS_ENGLAND;ORPHANET;UNIPROT\n",
       "3        CTD_human;GENOMICS_ENGLAND;ORPHANET;UNIPROT\n",
       "4        CTD_human;GENOMICS_ENGLAND;ORPHANET;UNIPROT\n",
       "                            ...                     \n",
       "51713    CTD_human;GENOMICS_ENGLAND;ORPHANET;UNIPROT\n",
       "51714    CTD_human;GENOMICS_ENGLAND;ORPHANET;UNIPROT\n",
       "51715             CTD_human;GENOMICS_ENGLAND;UNIPROT\n",
       "51716             CTD_human;GENOMICS_ENGLAND;UNIPROT\n",
       "51717             CTD_human;GENOMICS_ENGLAND;UNIPROT\n",
       "Name: source, Length: 51718, dtype: object"
      ]
     },
     "execution_count": 14,
     "metadata": {
     },
     "output_type": "execute_result"
    }
   ],
   "source": [
    "df7.loc[:,\"source\"]"
   ]
  },
  {
   "cell_type": "code",
   "execution_count": 25,
   "metadata": {
    "collapsed": false
   },
   "outputs": [
   ],
   "source": [
    "df8=df7[['miRNA', 'Locus','PredScore','Organism', 'Gene','diseaseName', 'score']]"
   ]
  },
  {
   "cell_type": "code",
   "execution_count": 26,
   "metadata": {
    "collapsed": false
   },
   "outputs": [
    {
     "name": "stdout",
     "output_type": "stream",
     "text": [
      "                miRNA         Locus  PredScore      Organism    Gene  \\\n",
      "0       hsa-let-7a-5p     NM_004015    89.3475  Homo sapiens     DMD   \n",
      "1       hsa-let-7b-5p     NM_004015    89.3475  Homo sapiens     DMD   \n",
      "2       hsa-let-7c-5p     NM_004015    89.3475  Homo sapiens     DMD   \n",
      "3       hsa-let-7d-5p     NM_004015    89.3263  Homo sapiens     DMD   \n",
      "4       hsa-let-7e-5p     NM_004015    89.3475  Homo sapiens     DMD   \n",
      "...               ...           ...        ...           ...     ...   \n",
      "51713  hsa-miR-501-5p  NM_001145829    88.3904  Homo sapiens   TNNI2   \n",
      "51714  hsa-miR-542-3p     NM_014845    87.2727  Homo sapiens    FIG4   \n",
      "51715  hsa-miR-542-3p     NM_014845    87.2727  Homo sapiens    FIG4   \n",
      "51716     hsa-miR-924  NM_001173498    82.3492  Homo sapiens  MAN2B1   \n",
      "51717     hsa-miR-924     NM_000528    82.3492  Homo sapiens  MAN2B1   \n",
      "\n",
      "                                diseaseName  score  \n",
      "0              Muscular Dystrophy, Duchenne   1.00  \n",
      "1              Muscular Dystrophy, Duchenne   1.00  \n",
      "2              Muscular Dystrophy, Duchenne   1.00  \n",
      "3              Muscular Dystrophy, Duchenne   1.00  \n",
      "4              Muscular Dystrophy, Duchenne   1.00  \n",
      "...                                     ...    ...  \n",
      "51713       ARTHROGRYPOSIS, DISTAL, TYPE 2B   0.96  \n",
      "51714                  Yunis Varon syndrome   0.98  \n",
      "51715  CHARCOT-MARIE-TOOTH DISEASE, TYPE 4J   1.00  \n",
      "51716                    alpha-Mannosidosis   1.00  \n",
      "51717                    alpha-Mannosidosis   1.00  \n",
      "\n",
      "[51718 rows x 7 columns]\n"
     ]
    }
   ],
   "source": [
    "print(df8)"
   ]
  },
  {
   "cell_type": "code",
   "execution_count": 28,
   "metadata": {
    "collapsed": false
   },
   "outputs": [
    {
     "name": "stdout",
     "output_type": "stream",
     "text": [
      "                 miRNA         Locus  PredScore      Organism  Gene  \\\n",
      "19      hsa-miR-340-5p     NM_004015  99.813547  Homo sapiens   DMD   \n",
      "21      hsa-miR-369-3p     NM_004015  97.414740  Homo sapiens   DMD   \n",
      "32     hsa-miR-5002-5p     NM_004015  98.227578  Homo sapiens   DMD   \n",
      "59     hsa-miR-6867-5p     NM_004015  99.999924  Homo sapiens   DMD   \n",
      "84      hsa-miR-340-5p     NM_004018  99.826404  Homo sapiens   DMD   \n",
      "...                ...           ...        ...           ...   ...   \n",
      "51609     hsa-miR-4296     NM_000552  95.403720  Homo sapiens   VWF   \n",
      "51709      hsa-miR-587     NM_000181  97.475980  Homo sapiens  GUSB   \n",
      "51710      hsa-miR-587  NM_001284290  97.475980  Homo sapiens  GUSB   \n",
      "51711      hsa-miR-587  NM_001293105  97.475980  Homo sapiens  GUSB   \n",
      "51712      hsa-miR-587  NM_001293104  97.475980  Homo sapiens  GUSB   \n",
      "\n",
      "                          diseaseName  score  \n",
      "19       Muscular Dystrophy, Duchenne    1.0  \n",
      "21       Muscular Dystrophy, Duchenne    1.0  \n",
      "32       Muscular Dystrophy, Duchenne    1.0  \n",
      "59       Muscular Dystrophy, Duchenne    1.0  \n",
      "84       Muscular Dystrophy, Duchenne    1.0  \n",
      "...                               ...    ...  \n",
      "51609  von Willebrand Disease, Type 2    1.0  \n",
      "51709       Mucopolysaccharidosis VII    1.0  \n",
      "51710       Mucopolysaccharidosis VII    1.0  \n",
      "51711       Mucopolysaccharidosis VII    1.0  \n",
      "51712       Mucopolysaccharidosis VII    1.0  \n",
      "\n",
      "[3156 rows x 7 columns]\n"
     ]
    }
   ],
   "source": [
    " miRNA = df8.loc[df8['miRNA'].str.startswith('hsa') & (df8['PredScore'] > 95 ) & (df8['score'] > 0.95 )]\n",
    " print(miRNA)"
   ]
  },
  {
   "cell_type": "code",
   "execution_count": 29,
   "metadata": {
    "collapsed": false
   },
   "outputs": [
    {
     "name": "stdout",
     "output_type": "stream",
     "text": [
      "                  miRNA         Locus  PredScore      Organism     Gene  \\\n",
      "33078      hsa-miR-4422  NM_001276289  95.349749  Homo sapiens  PRKAR1A   \n",
      "33086   hsa-miR-4701-5p  NM_001276289  95.498133  Homo sapiens  PRKAR1A   \n",
      "33106  hsa-miR-548ae-3p  NM_001276289  95.024990  Homo sapiens  PRKAR1A   \n",
      "33108  hsa-miR-548ah-3p  NM_001276289  95.024990  Homo sapiens  PRKAR1A   \n",
      "33110  hsa-miR-548aj-3p  NM_001276289  96.134538  Homo sapiens  PRKAR1A   \n",
      "33112  hsa-miR-548am-3p  NM_001276289  95.024990  Homo sapiens  PRKAR1A   \n",
      "33114  hsa-miR-548aq-3p  NM_001276289  95.024990  Homo sapiens  PRKAR1A   \n",
      "33120   hsa-miR-548j-3p  NM_001276289  95.024990  Homo sapiens  PRKAR1A   \n",
      "33124   hsa-miR-548x-3p  NM_001276289  96.134538  Homo sapiens  PRKAR1A   \n",
      "33136       hsa-miR-588  NM_001276289  95.498133  Homo sapiens  PRKAR1A   \n",
      "33424    hsa-miR-494-3p  NM_001276290  96.064470  Homo sapiens  PRKAR1A   \n",
      "45177   hsa-miR-4482-3p  NM_001008844  96.777580  Homo sapiens      DSP   \n",
      "45201   hsa-miR-4482-3p  NM_001319034  96.777580  Homo sapiens      DSP   \n",
      "45221   hsa-miR-4482-3p     NM_004415  96.777580  Homo sapiens      DSP   \n",
      "45243     hsa-miR-12136     NM_004333  95.822853  Homo sapiens     BRAF   \n",
      "45255   hsa-miR-302c-5p     NM_004333  95.594230  Homo sapiens     BRAF   \n",
      "45288   hsa-miR-6507-5p     NM_004333  95.993850  Homo sapiens     BRAF   \n",
      "45294   hsa-miR-6830-5p     NM_004333  96.393300  Homo sapiens     BRAF   \n",
      "45297       hsa-miR-944     NM_004333  95.575022  Homo sapiens     BRAF   \n",
      "46494     hsa-miR-548aa     NM_170707  99.071491  Homo sapiens     LMNA   \n",
      "46498  hsa-miR-548ap-3p     NM_170707  99.071491  Homo sapiens     LMNA   \n",
      "46502   hsa-miR-548t-3p     NM_170707  99.071491  Homo sapiens     LMNA   \n",
      "46514   hsa-miR-6815-3p     NM_170707  96.170421  Homo sapiens     LMNA   \n",
      "46522   hsa-miR-6825-5p     NM_170707  95.337466  Homo sapiens     LMNA   \n",
      "46558     hsa-miR-548aa     NM_170708  99.071491  Homo sapiens     LMNA   \n",
      "46562  hsa-miR-548ap-3p     NM_170708  99.071491  Homo sapiens     LMNA   \n",
      "46566   hsa-miR-548t-3p     NM_170708  99.071491  Homo sapiens     LMNA   \n",
      "46570   hsa-miR-6815-3p     NM_170708  95.133341  Homo sapiens     LMNA   \n",
      "46578   hsa-miR-6825-5p     NM_170708  95.337466  Homo sapiens     LMNA   \n",
      "46610     hsa-miR-548aa  NM_001282626  99.071491  Homo sapiens     LMNA   \n",
      "46614  hsa-miR-548ap-3p  NM_001282626  99.071491  Homo sapiens     LMNA   \n",
      "46618   hsa-miR-548t-3p  NM_001282626  99.071491  Homo sapiens     LMNA   \n",
      "46622   hsa-miR-6815-3p  NM_001282626  95.133341  Homo sapiens     LMNA   \n",
      "46630   hsa-miR-6825-5p  NM_001282626  95.337466  Homo sapiens     LMNA   \n",
      "46650   hsa-miR-6825-5p  NM_001257374  96.647198  Homo sapiens     LMNA   \n",
      "\n",
      "                                             diseaseName  score  \n",
      "33078                                     Carney Complex   1.00  \n",
      "33086                                     Carney Complex   1.00  \n",
      "33106                                     Carney Complex   1.00  \n",
      "33108                                     Carney Complex   1.00  \n",
      "33110                                     Carney Complex   1.00  \n",
      "33112                                     Carney Complex   1.00  \n",
      "33114                                     Carney Complex   1.00  \n",
      "33120                                     Carney Complex   1.00  \n",
      "33124                                     Carney Complex   1.00  \n",
      "33136                                     Carney Complex   1.00  \n",
      "33424                                     Carney Complex   1.00  \n",
      "45177  Cardiomyopathy dilated with Woolly hair and ke...   0.96  \n",
      "45201  Cardiomyopathy dilated with Woolly hair and ke...   0.96  \n",
      "45221  Cardiomyopathy dilated with Woolly hair and ke...   0.96  \n",
      "45243                    Cardio-facio-cutaneous syndrome   1.00  \n",
      "45255                    Cardio-facio-cutaneous syndrome   1.00  \n",
      "45288                    Cardio-facio-cutaneous syndrome   1.00  \n",
      "45294                    Cardio-facio-cutaneous syndrome   1.00  \n",
      "45297                    Cardio-facio-cutaneous syndrome   1.00  \n",
      "46494                Cardiomyopathy, Familial Idiopathic   1.00  \n",
      "46498                Cardiomyopathy, Familial Idiopathic   1.00  \n",
      "46502                Cardiomyopathy, Familial Idiopathic   1.00  \n",
      "46514                Cardiomyopathy, Familial Idiopathic   1.00  \n",
      "46522                Cardiomyopathy, Familial Idiopathic   1.00  \n",
      "46558                Cardiomyopathy, Familial Idiopathic   1.00  \n",
      "46562                Cardiomyopathy, Familial Idiopathic   1.00  \n",
      "46566                Cardiomyopathy, Familial Idiopathic   1.00  \n",
      "46570                Cardiomyopathy, Familial Idiopathic   1.00  \n",
      "46578                Cardiomyopathy, Familial Idiopathic   1.00  \n",
      "46610                Cardiomyopathy, Familial Idiopathic   1.00  \n",
      "46614                Cardiomyopathy, Familial Idiopathic   1.00  \n",
      "46618                Cardiomyopathy, Familial Idiopathic   1.00  \n",
      "46622                Cardiomyopathy, Familial Idiopathic   1.00  \n",
      "46630                Cardiomyopathy, Familial Idiopathic   1.00  \n",
      "46650                Cardiomyopathy, Familial Idiopathic   1.00  \n"
     ]
    }
   ],
   "source": [
    "diseasename = df8.loc[df8['diseaseName'].str.startswith(disname)& (df8['PredScore'] > 95 ) & (df8['score'] > 0.95 )]\n",
    "print(diseasename)\n"
   ]
  }
 ],
 "metadata": {
  "kernelspec": {
   "argv": [
    "/usr/bin/python3",
    "-m",
    "ipykernel",
    "--matplotlib=inline",
    "-c",
    "%config InlineBackend.figure_formats = set(['retina'])\nimport matplotlib; matplotlib.rcParams['figure.figsize'] = (12, 7)",
    "-f",
    "{connection_file}"
   ],
   "display_name": "Python 3 (system-wide)",
   "env": {
   },
   "language": "python",
   "metadata": {
    "cocalc": {
     "description": "Python 3 programming language",
     "priority": 100,
     "url": "https://www.python.org/"
    }
   },
   "name": "python3",
   "resource_dir": "/ext/jupyter/kernels/python3"
  },
  "language_info": {
   "codemirror_mode": {
    "name": "ipython",
    "version": 3
   },
   "file_extension": ".py",
   "mimetype": "text/x-python",
   "name": "python",
   "nbconvert_exporter": "python",
   "pygments_lexer": "ipython3",
   "version": "3.9.13"
  }
 },
 "nbformat": 4,
 "nbformat_minor": 4
}